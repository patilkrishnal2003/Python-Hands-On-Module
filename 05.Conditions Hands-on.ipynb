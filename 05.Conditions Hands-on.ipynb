{
 "cells": [
  {
   "cell_type": "code",
   "execution_count": null,
   "metadata": {},
   "outputs": [],
   "source": [
    "\n",
    "# Operator Precedence\n",
    "# ()\n",
    "# **\n",
    "# ~,- Bitwise complement and unary Minus\n",
    "# *,/,%,//\n",
    "# +,-\n",
    "# <<,>>\n",
    "# &\n",
    "# ^\n",
    "# |\n",
    "# >,>=,<,<=,==,!=\n",
    "# =,+=,-=...\n",
    "# is, is not\n",
    "# in, not in\n",
    "# not\n",
    "# and\n",
    "# or\n",
    "\n",
    "# Conditional statements, loop"
   ]
  },
  {
   "cell_type": "code",
   "execution_count": 9,
   "metadata": {},
   "outputs": [
    {
     "name": "stdout",
     "output_type": "stream",
     "text": [
      "Enter a number: 56\n",
      "56 is not divisible by 5 and 11\n"
     ]
    }
   ],
   "source": [
    "# WAP to check whether a number is divisible by 5 and 11\n",
    "\n",
    "num=int(input('Enter a number: '))\n",
    "if num%5==0 and num%11==0:\n",
    "    print(f'{num} is divisible by 5 and 11')\n",
    "else:\n",
    "    print(f'{num} is not divisible by 5 and 11')\n"
   ]
  },
  {
   "cell_type": "code",
   "execution_count": 3,
   "metadata": {},
   "outputs": [
    {
     "name": "stdout",
     "output_type": "stream",
     "text": [
      "Enter a character: *\n",
      "* is not a character\n"
     ]
    }
   ],
   "source": [
    "# Write a program to check whether a character is alphabet or not.\n",
    "\n",
    "alp=str(input('Enter a character: '))\n",
    "if (chr(64)<alp<chr(91)) or (chr(96)<alp<chr(123)):\n",
    "    print(f'{alp} is a character')\n",
    "else:\n",
    "    print(f'{alp} is not a character')"
   ]
  },
  {
   "cell_type": "code",
   "execution_count": 12,
   "metadata": {},
   "outputs": [
    {
     "name": "stdout",
     "output_type": "stream",
     "text": [
      "Enter a number: 3\n",
      "3 is an odd number\n"
     ]
    }
   ],
   "source": [
    "# Write a program to check whether a number is even or odd.\n",
    "\n",
    "num=int(input('Enter a number: '))\n",
    "if num%2==0:\n",
    "    print(f'{num} is an even number')\n",
    "else:\n",
    "    print(f'{num} is an odd number')  "
   ]
  },
  {
   "cell_type": "code",
   "execution_count": 13,
   "metadata": {},
   "outputs": [
    {
     "name": "stdout",
     "output_type": "stream",
     "text": [
      "Enter an alphabet: y\n",
      "y is consonant\n"
     ]
    }
   ],
   "source": [
    "# Write a program to input any alphabet and check whether it is vowel or consonant.\n",
    "\n",
    "alp=str(input('Enter an alphabet: '))\n",
    "if (alp=='a' or alp=='e' or alp=='i' or alp=='o' or alp=='u'):\n",
    "    print(f'{alp} is vowel')\n",
    "elif (alp=='A' or alp=='E' or alp=='I' or alp=='O' or alp=='U'):\n",
    "    print(f'{alp} is vowel')\n",
    "else:\n",
    "    print(f'{alp} is consonant')"
   ]
  },
  {
   "cell_type": "code",
   "execution_count": 21,
   "metadata": {},
   "outputs": [
    {
     "name": "stdout",
     "output_type": "stream",
     "text": [
      "Enter any character: !\n",
      "! is not printable\n"
     ]
    }
   ],
   "source": [
    "# Write a program to input any character and check whether it is alphabet, digit or special character.\n",
    "\n",
    "inp=input('Enter any character: ')\n",
    "if (chr(64)<inp<chr(91) or chr(96)<inp<chr(123)):\n",
    "    print(f'{inp} is an alphabet')\n",
    "elif (chr(47)<inp<chr(58)):\n",
    "    print(f'{inp} is a digit')\n",
    "elif (chr(33)<inp<chr(48) or chr(57)<inp<chr(65) or chr(90)<inp<chr(97) or chr(122)<inp<chr(127)):\n",
    "    print(f'{inp} is a special character')\n",
    "else:\n",
    "    print(f'{inp} is not printable')"
   ]
  },
  {
   "cell_type": "code",
   "execution_count": 24,
   "metadata": {},
   "outputs": [
    {
     "name": "stdout",
     "output_type": "stream",
     "text": [
      "Enter an alphabet: p\n",
      "p is lowercase\n"
     ]
    }
   ],
   "source": [
    "# Write a  program to check whether a character is uppercase or lowercase alphabet.\n",
    "\n",
    "alp=str(input('Enter an alphabet: '))\n",
    "if (chr(64)<alp<chr(97)):\n",
    "    print(f'{alp} is uppercase')\n",
    "elif (chr(96)<alp<chr(123)):\n",
    "    print(f'{alp} is lowercase')\n",
    "else:\n",
    "    print(f'{alp} is not a character')\n"
   ]
  },
  {
   "cell_type": "code",
   "execution_count": 5,
   "metadata": {},
   "outputs": [
    {
     "name": "stdout",
     "output_type": "stream",
     "text": [
      "Enter a day between 1 to 7: 3\n",
      "Wednesday\n"
     ]
    }
   ],
   "source": [
    "# Write a program to input week number and print week day.\n",
    "\n",
    "day=int(input('Enter a day between 1 to 7: '))\n",
    "f=['','Monday','Tuesday','Wednesday','Thursday','Friday','Saturday','Sunday']\n",
    "if 0<day<=7:\n",
    "    print(f[day])\n",
    "else:\n",
    "    print(f'There are only seven days in a week, not {day} days')\n",
    "    "
   ]
  },
  {
   "cell_type": "code",
   "execution_count": 8,
   "metadata": {},
   "outputs": [
    {
     "name": "stdout",
     "output_type": "stream",
     "text": [
      "Enter a month number between 1 to 12: 5\n",
      "This month has 31 days\n"
     ]
    }
   ],
   "source": [
    "# Write a program to input month number and print number of days in that month.\n",
    "\n",
    "month=int(input('Enter a month number between 1 to 12: '))\n",
    "o=[1,3,5,7,8,10,12]\n",
    "e=[4,6,9,11]\n",
    "if month in o:\n",
    "    print('This month has 31 days')\n",
    "elif month==2:\n",
    "    print('This month has 28 days')\n",
    "elif month in e:\n",
    "    print('This month has 30 days')\n",
    "else:\n",
    "    print(f'There are only 12 months in a year, not {month} months')"
   ]
  },
  {
   "cell_type": "code",
   "execution_count": 10,
   "metadata": {},
   "outputs": [
    {
     "name": "stdout",
     "output_type": "stream",
     "text": [
      "Enter the first angle: 90\n",
      "Enter the second angle: 80\n",
      "Enter the third angle: 60\n",
      "It is not a triangle\n"
     ]
    }
   ],
   "source": [
    "# Write a program to input angles of a triangle and check whether triangle is valid or not.\n",
    "\n",
    "x=int(input('Enter the first angle: '))\n",
    "y=int(input('Enter the second angle: '))\n",
    "z=int(input('Enter the third angle: '))\n",
    "if (x+y+z)==180:\n",
    "    print('It is a triangle')\n",
    "else:\n",
    "    print('It is not a triangle')"
   ]
  },
  {
   "cell_type": "code",
   "execution_count": 11,
   "metadata": {},
   "outputs": [
    {
     "name": "stdout",
     "output_type": "stream",
     "text": [
      "Enter the first number10\n",
      "Enter the second number30\n",
      "Enter the third number10\n",
      "Since dis>0 the equation has two roots -38.19660112501051 and -261.8033988749895\n"
     ]
    }
   ],
   "source": [
    "# Write a program to find all roots of a quadratic equation.\n",
    "\n",
    "#QUADRATIC EQUATION ----> (ax^2)+(bx)+(c) = 0\n",
    "\n",
    "a=(int(input('Enter the first number')))\n",
    "b=(int(input('Enter the second number')))\n",
    "c=(int(input('Enter the third number')))\n",
    "dis=(b**2-4*a*c)\n",
    "from math import sqrt\n",
    "if dis>0:\n",
    "    sq1=((-b+sqrt(dis)))/2*a\n",
    "    sq2=((-b-sqrt(dis)))/2*a\n",
    "    print(f'Since dis>0 the equation has two roots {sq1} and {sq2}')\n",
    "elif dis==0:\n",
    "    sq1=((-b)/2*a)\n",
    "    print(f'Since dis=0 the equation has only one root {sq1}')\n",
    "else:\n",
    "    print('The equation has no real solution')\n",
    "    "
   ]
  }
 ],
 "metadata": {
  "kernelspec": {
   "display_name": "Python 3",
   "language": "python",
   "name": "python3"
  },
  "language_info": {
   "codemirror_mode": {
    "name": "ipython",
    "version": 3
   },
   "file_extension": ".py",
   "mimetype": "text/x-python",
   "name": "python",
   "nbconvert_exporter": "python",
   "pygments_lexer": "ipython3",
   "version": "3.7.6"
  }
 },
 "nbformat": 4,
 "nbformat_minor": 4
}
