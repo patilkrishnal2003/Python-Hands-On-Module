{
 "cells": [
  {
   "cell_type": "markdown",
   "metadata": {
    "colab_type": "text",
    "id": "wNRNTbrsc53d"
   },
   "source": [
    "# If - elif - else statement"
   ]
  },
  {
   "cell_type": "code",
   "execution_count": 6,
   "metadata": {
    "colab": {},
    "colab_type": "code",
    "id": "MiPfTnBycxNa"
   },
   "outputs": [
    {
     "name": "stdout",
     "output_type": "stream",
     "text": [
      "Enter one number from 0 to 9 : 7\n",
      "Seven\n"
     ]
    }
   ],
   "source": [
    "#W. A P. which takes one number from 0 to 9 from the user and prints it in the word. And if the word is not from 0 to 9 then\n",
    "#it should print that number is outside of the range and program should exit.\n",
    "# For exapmple:- \n",
    "# input = 1\n",
    "# output = one\n",
    "\n",
    "num=int(input('Enter one number from 0 to 9 : '))\n",
    "if num==0:\n",
    "    print('Zero')\n",
    "elif num==1:\n",
    "    print('One')\n",
    "elif num==2:\n",
    "    print('Two')\n",
    "elif num==3:\n",
    "    print('Three')\n",
    "elif num==4:\n",
    "    print('Four')\n",
    "elif num==5:\n",
    "    print('Five')\n",
    "elif num==6:\n",
    "    print('Six')\n",
    "elif num==7:\n",
    "    print('Seven')\n",
    "elif num==8:\n",
    "    print('Eight')\n",
    "elif num==9:\n",
    "    print('Nine')\n",
    "else:\n",
    "    print('Number is outside the range')"
   ]
  },
  {
   "cell_type": "code",
   "execution_count": 4,
   "metadata": {
    "colab": {},
    "colab_type": "code",
    "id": "vEMNOv9zdA39"
   },
   "outputs": [
    {
     "name": "stdout",
     "output_type": "stream",
     "text": [
      "Enter the first number : 60\n",
      "Enter the second number : 5\n",
      " Enter the operation to be done \n",
      "                1. Add\n",
      "                2. Sub\n",
      "                3. MUltiply\n",
      "                4. Divide\n",
      "                5. Floor division\n",
      "                6. Modulo operation\n",
      "                7. Exponent\n",
      "                8. To come out of program\n",
      "4\n",
      "Division of 60 and 5 is:12.0\n"
     ]
    }
   ],
   "source": [
    "#W. A P. to implement calculator but the operation to be done and two numbers will be taken as input from user:-\n",
    "#Operation console should show below:-\n",
    "#     Please select any one operation from below:-\n",
    "#         * To add enter 1\n",
    "#         * to subtract enter 2\n",
    "#         * To multiply enter 3\n",
    "#         * To divide enter 4\n",
    "#         * To divide and find quotient enter 5\n",
    "#         * To divide and find remainder enter 6\n",
    "#         * To divide and find num1 to the power of num2 enter 7\n",
    "#         * To Come out of the program enter 8\n",
    "\n",
    "num1=int(input('Enter the first number : '))\n",
    "num2=int(input('Enter the second number : '))\n",
    "print(''' Enter the operation to be done \n",
    "                1. Add\n",
    "                2. Sub\n",
    "                3. MUltiply\n",
    "                4. Divide\n",
    "                5. Floor division\n",
    "                6. Modulo operation\n",
    "                7. Exponent\n",
    "                8. To come out of program''')\n",
    "operation=int(input())\n",
    "if operation==1:\n",
    "    print(f'The sum of {num1} and {num2} is {num1+num2}')\n",
    "elif operation==2:\n",
    "    if num1>num2:\n",
    "        print(f'Differnece between {num1} and {num2} is:',{num1-num2})\n",
    "    else:\n",
    "        print(f'Differnece between {num2} and {num1} is:',{num2-num1})\n",
    "elif operation==3:\n",
    "    print(f'Product of {num1} and {num2} is: {num1*num2}')\n",
    "elif operation==4:\n",
    "    print(f'Division of {num1} and {num2} is:{num1/num2}')\n",
    "elif operation==5:\n",
    "    print(f'Quotient of {num1} and {num2} is:{num1//num2}')\n",
    "elif operation==6:\n",
    "    print(f'Remainder of {num1} and {num2} is:{num1%num2}')\n",
    "elif operation==7:\n",
    "    print(f'{num1} to power of {num2} is:{num1**num2}')\n",
    "elif operation==8:\n",
    "    pass\n",
    "else:\n",
    "    print('Operation is not defined')\n",
    "    \n",
    "\n"
   ]
  },
  {
   "cell_type": "code",
   "execution_count": 7,
   "metadata": {
    "colab": {},
    "colab_type": "code",
    "id": "1e2gwYLqdC1s"
   },
   "outputs": [
    {
     "name": "stdout",
     "output_type": "stream",
     "text": [
      "Enter an year : 2020\n",
      "2020 is a Leap year\n"
     ]
    }
   ],
   "source": [
    "#W A P to check whether a year entered by user is an leap year or not?\n",
    "#Check with below input:-\n",
    "    #leap year:- 2012, 1968, 2004, 1200, 1600,2400\n",
    "    #Non-lear year:- 1971, 2006, 1700,1800,1900\n",
    "    \n",
    "Year=int(input('Enter an year : '))\n",
    "if Year%4==0:\n",
    "    if Year%100==0:\n",
    "        if Year%400==0:\n",
    "            print(f'{Year} is a leap year')\n",
    "        else:\n",
    "            print(f'{Year} is not a leap year')\n",
    "    else:\n",
    "        print(f'{Year} is a Leap year')\n",
    "else:\n",
    "    print(f'{Year} is Not a leap year')"
   ]
  },
  {
   "cell_type": "code",
   "execution_count": 8,
   "metadata": {
    "colab": {},
    "colab_type": "code",
    "id": "_tpXv1EtdEre"
   },
   "outputs": [
    {
     "name": "stdout",
     "output_type": "stream",
     "text": [
      "Enter a number : 876\n",
      "876 is an even number\n"
     ]
    }
   ],
   "source": [
    "#W A P which takes one number from the user and checks whether it is an even or odd number?, If it even then prints number is \n",
    "#even number else prints that number is odd number.\n",
    "\n",
    "\n",
    "num=int(input('Enter a number : '))\n",
    "if num%2==0:\n",
    "    print(f'{num} is an even number')\n",
    "else:\n",
    "    print(f'{num} is an odd number')\n",
    "    \n",
    "    "
   ]
  },
  {
   "cell_type": "code",
   "execution_count": 10,
   "metadata": {
    "colab": {},
    "colab_type": "code",
    "id": "Q1HumymCdG6i"
   },
   "outputs": [
    {
     "name": "stdout",
     "output_type": "stream",
     "text": [
      "Enter the first number : 30\n",
      "Enter the second number : 30\n",
      "30 is equal to 30\n",
      "\n",
      "Enter the first number : 35\n",
      "Enter the second number : 45\n",
      "35 is less than 45\n",
      "\n",
      "Enter the first number : 49\n",
      "Enter the second number : 48\n",
      "49 is greater than 48\n",
      "\n"
     ]
    }
   ],
   "source": [
    "#W A P which takes two numbers from the user and prints below output:-\n",
    "#     1. num1 is greater than num2 if num1 is greater than num2\n",
    "#     2. num1 is smaller than num2 if num1 is smaller than num2\n",
    "#     3. num1 is equal to num2 if num1 and num2 are equal\n",
    "\n",
    "#Note:- 1. Do this problem using if - else \n",
    "#       2. Do this using ternary operator\n",
    "\n",
    "# USING IF - ELIF - ELSE CONDITION:-\n",
    "\n",
    "num1=int(input('Enter the first number : '))\n",
    "num2=int(input('Enter the second number : '))\n",
    "if num1>num2:\n",
    "    print(f'{num1} is greater than {num2}')\n",
    "elif num1<num2:\n",
    "    print(f'{num1} is less than {num2}')\n",
    "else:\n",
    "    print(f'{num1} is equal to {num2}')\n",
    "print()\n",
    "    \n",
    "# USING IF - ELSE CONDITION:-\n",
    "\n",
    "num1=int(input('Enter the first number : '))\n",
    "num2=int(input('Enter the second number : '))\n",
    "if num1>num2 or num1<num2:\n",
    "    if num1>num2:\n",
    "        print(f'{num1} is greater than {num2}')\n",
    "    else:\n",
    "        print(f'{num1} is less than {num2}')\n",
    "else:\n",
    "    print(f'{num1} is equal to {num2}')\n",
    "print()\n",
    "    \n",
    "# USING TERNERY OPERATOR:-\n",
    "\n",
    "num1=int(input('Enter the first number : '))\n",
    "num2=int(input('Enter the second number : '))\n",
    "print(f'{num1} is greater than {num2}') if (num1>num2) \\\n",
    "else (f'{num1} is less than {num2}') if (num1<num2)\\\n",
    "else (f'{num1} is equal to {num2}')\n",
    "print()\n",
    "    "
   ]
  },
  {
   "cell_type": "code",
   "execution_count": 11,
   "metadata": {
    "colab": {},
    "colab_type": "code",
    "id": "LR6TVB-DdOPf"
   },
   "outputs": [
    {
     "name": "stdout",
     "output_type": "stream",
     "text": [
      "Enter the first number : 7865439\n",
      "Enter the second number : 9876458\n",
      "Enter the third number : 9876543\n",
      "9876543 is greater than 7865439 and 9876458\n"
     ]
    }
   ],
   "source": [
    "#W A P which takes three numbers from the user and prints below output:-\n",
    "#     1. num1 is greater than num2 and num3 if num1 is greater than num2 and num3\n",
    "#     2. num2 is greater than num1 and num3 if num2 is greater than num1 and num3\n",
    "#     3. num3 is greater than num1 and num2 if num3 is greater than num1 and num2\n",
    "\n",
    "#Note:- 1. Do this problem using if - elif - else \n",
    "#       2. Do this using ternary operator\n",
    "\n",
    "num1=int(input('Enter the first number : '))\n",
    "num2=int(input('Enter the second number : '))\n",
    "num3=int(input('Enter the third number : '))\n",
    "if num1>num2 and num1>num3:\n",
    "    print(f'{num1} is greater than {num2} and {num3}')\n",
    "elif num2>num3:\n",
    "    print(f'{num2} is greater than {num1} and {num3}')\n",
    "else:\n",
    "    print(f'{num3} is greater than {num1} and {num2}')\n",
    "\n",
    "\n",
    "\n",
    "\n"
   ]
  },
  {
   "cell_type": "markdown",
   "metadata": {
    "colab_type": "text",
    "id": "IoOLQMUGdSox"
   },
   "source": [
    "# Loops - for loop, while loop"
   ]
  },
  {
   "cell_type": "code",
   "execution_count": 15,
   "metadata": {
    "colab": {},
    "colab_type": "code",
    "id": "9K23Uld8dQfA"
   },
   "outputs": [
    {
     "name": "stdout",
     "output_type": "stream",
     "text": [
      "55\n"
     ]
    }
   ],
   "source": [
    "#Write a Python program to find the length of the my_str using loop:-\n",
    "#Input:- 'Write a Python program to find the length of the my_str'\n",
    "#Output:- 55\n",
    "\n",
    "inp='Write a Python program to find the length of the my_str'\n",
    "count=0\n",
    "for i in range(len(inp)):\n",
    "    count+=1\n",
    "print(count)\n",
    "    "
   ]
  },
  {
   "cell_type": "code",
   "execution_count": 17,
   "metadata": {
    "colab": {},
    "colab_type": "code",
    "id": "bp6AcqTsdYxy"
   },
   "outputs": [
    {
     "name": "stdout",
     "output_type": "stream",
     "text": [
      "9\n"
     ]
    }
   ],
   "source": [
    "#Write a Python program to find the total number of times letter 'p' is appeared in the below string using loop:-\n",
    "    \n",
    "#Input:- 'peter piper picked a peck of pickled peppers.\\n'\n",
    "#Output:- 9\n",
    "\n",
    "my_str='peter piper picked a peck of pickled peppers.\\n'\n",
    "count=0\n",
    "for i in my_str:\n",
    "    if i=='p':\n",
    "        count+=1\n",
    "print(count)"
   ]
  },
  {
   "cell_type": "code",
   "execution_count": 25,
   "metadata": {
    "colab": {},
    "colab_type": "code",
    "id": "xvxSBhTJdav1"
   },
   "outputs": [
    {
     "name": "stdout",
     "output_type": "stream",
     "text": [
      "0\n",
      "6\n",
      "8\n",
      "12\n",
      "21\n",
      "29\n",
      "37\n",
      "39\n",
      "40\n"
     ]
    }
   ],
   "source": [
    "#Write a Python Program, to print all the indexes of all occurences of letter 'p' appeared in the string using loop:-\n",
    "    \n",
    "#Input:- 'peter piper picked a peck of pickled peppers.'\n",
    "#Output:- \n",
    "# 0\n",
    "# 6\n",
    "# 8\n",
    "# 12\n",
    "# 21\n",
    "# 29\n",
    "# 37\n",
    "# 39\n",
    "# 40\n",
    "\n",
    "\n",
    "my_str='peter piper picked a peck of pickled peppers.'\n",
    "for i in (range(len(my_str))):\n",
    "    if my_str[i]=='p':\n",
    "        print(i)"
   ]
  },
  {
   "cell_type": "code",
   "execution_count": 28,
   "metadata": {
    "colab": {},
    "colab_type": "code",
    "id": "79L_feMadbmw"
   },
   "outputs": [
    {
     "name": "stdout",
     "output_type": "stream",
     "text": [
      "['peter', 'piper', 'picked', 'a', 'peck', 'of', 'pickled', 'peppers']\n"
     ]
    }
   ],
   "source": [
    "#Write a python program to find below output using loop:-\n",
    "\n",
    "#Input:- 'peter piper picked a peck of pickled peppers.'\n",
    "#Output:- ['peter', 'piper', 'picked', 'a', 'peck', 'of', 'pickled', 'peppers']\n",
    "\n",
    "my_str='peter piper picked a peck of pickled peppers.'\n",
    "out_lst=[]\n",
    "out_str=''\n",
    "for i in my_str:\n",
    "    if i==' ' or i=='.':\n",
    "        out_lst.append(out_str)\n",
    "        out_str=''\n",
    "    else:\n",
    "        out_str+=i\n",
    "print(out_lst)"
   ]
  },
  {
   "cell_type": "code",
   "execution_count": 4,
   "metadata": {
    "colab": {},
    "colab_type": "code",
    "id": "vzs5AJ53deVS"
   },
   "outputs": [
    {
     "name": "stdout",
     "output_type": "stream",
     "text": [
      " peppers pickled of peck a picked piper peter\n"
     ]
    }
   ],
   "source": [
    "#Write a python program to find below output using loop:-\n",
    "\n",
    "#Input:- 'peter piper picked a peck of pickled peppers.'\n",
    "#Output:- 'peppers pickled of peck a picked piper peter'\n",
    "\n",
    "my_str='peter piper picked a peck of pickled peppers.'\n",
    "out_lst=[]\n",
    "out_str=''\n",
    "for i in my_str:\n",
    "    if i==' ' or i=='.':\n",
    "        out_lst.append(out_str)\n",
    "        out_str=''\n",
    "    else:\n",
    "        out_str=out_str+i\n",
    "for i in out_lst[::-1]:\n",
    "    out_str=out_str+' '+i\n",
    "print(out_str)\n",
    "    \n"
   ]
  },
  {
   "cell_type": "code",
   "execution_count": 2,
   "metadata": {
    "colab": {},
    "colab_type": "code",
    "id": "i-HP7DrCdhwS"
   },
   "outputs": [
    {
     "name": "stdout",
     "output_type": "stream",
     "text": [
      ".sreppep delkcip fo kcep a dekcip repip retep\n"
     ]
    }
   ],
   "source": [
    "#Write a python program to find below output using loop:-\n",
    "\n",
    "#Input:- 'peter piper picked a peck of pickled peppers.'\n",
    "#Output:- '.sreppep delkcip fo kcep a dekcip repip retep'\n",
    "\n",
    "my_str='peter piper picked a peck of pickled peppers.'\n",
    "out_str=''\n",
    "for i in my_str:\n",
    "    out_str=i+out_str\n",
    "print(out_str)\n",
    "\n"
   ]
  },
  {
   "cell_type": "code",
   "execution_count": 3,
   "metadata": {
    "colab": {},
    "colab_type": "code",
    "id": "3rt6p0ytdkq0"
   },
   "outputs": [
    {
     "name": "stdout",
     "output_type": "stream",
     "text": [
      " retep repip dekcip a kcep fo delkcip sreppep\n"
     ]
    }
   ],
   "source": [
    "#Write a python program to find below output using loop:-\n",
    "\n",
    "#Input:- 'peter piper picked a peck of pickled peppers.'\n",
    "#Output:- 'retep repip dekcip a kcep fo delkcip sreppep'\n",
    "\n",
    "my_str='peter piper picked a peck of pickled peppers.'\n",
    "out_lst=[]\n",
    "out_str=''\n",
    "for i in my_str:\n",
    "    if i==' ' or i=='.':\n",
    "        out_lst.append(out_str)\n",
    "        out_str=''\n",
    "    else:\n",
    "        out_str=i+out_str\n",
    "for i in out_lst:\n",
    "    out_str=out_str+' '+i\n",
    "print(out_str)"
   ]
  },
  {
   "cell_type": "code",
   "execution_count": 6,
   "metadata": {
    "colab": {},
    "colab_type": "code",
    "id": "scmDJE-ldsI9"
   },
   "outputs": [
    {
     "name": "stdout",
     "output_type": "stream",
     "text": [
      "29\n"
     ]
    }
   ],
   "source": [
    "#Write a python program to implement index method using loop. If sub_str is found in my_str then it will print the index\n",
    "# of first occurrence of first character of matching string in my_str:-\n",
    "\n",
    "#Input:- my_str = 'Peter Piper Picked A Peck Of Pickled Peppers.', sub_str = 'Pickl'\n",
    "#Output:- 29\n",
    "\n",
    "my_str='Peter Piper Picked A Peck Of Pickled Peppers.'\n",
    "sub_str='Pickl'\n",
    "for i in range(len(my_str)):\n",
    "    if my_str[i:i+(len(sub_str))]==sub_str:\n",
    "        print(i)"
   ]
  },
  {
   "cell_type": "code",
   "execution_count": 8,
   "metadata": {
    "colab": {},
    "colab_type": "code",
    "id": "Kq_fwdb_dvYE"
   },
   "outputs": [
    {
     "name": "stdout",
     "output_type": "stream",
     "text": [
      " Peter Piper Picked A Pack Of Pickled Peppers\n"
     ]
    }
   ],
   "source": [
    "#Write a python program to implement replace method using loop. If sub_str is found in my_str then it will replace the first \n",
    "#occurrence of sub_str with new_str else it will will print sub_str not found:-\n",
    "\n",
    "#Input:- my_str = 'Peter Piper Picked A Peck Of Pickled Peppers.', sub_str = 'Peck', new_str = 'Pack'\n",
    "#Output:- 'Peter Piper Picked A Pack Of Pickled Peppers.'\n",
    "\n",
    "my_str = 'Peter Piper Picked A Peck Of Pickled Peppers.'\n",
    "sub_str = 'Peck'\n",
    "new_str = 'Pack'\n",
    "out_str=''\n",
    "out_lst=[]\n",
    "\n",
    "for i in my_str:\n",
    "    if i==' ' or i=='.':\n",
    "        out_lst.append(out_str)\n",
    "        out_str=''\n",
    "    else:\n",
    "        out_str+=i\n",
    "# count=0\n",
    "for i in range(len(out_lst)):\n",
    "    if out_lst[i]==sub_str:\n",
    "        out_lst[i]=new_str\n",
    "    \n",
    "for i in out_lst:    \n",
    "    out_str=out_str+' '+i   \n",
    "print(out_str)        \n",
    "\n"
   ]
  },
  {
   "cell_type": "code",
   "execution_count": 24,
   "metadata": {
    "colab": {},
    "colab_type": "code",
    "id": "jRnBVufmd2Ay"
   },
   "outputs": [
    {
     "name": "stdout",
     "output_type": "stream",
     "text": [
      "R{vjqp\n",
      "Rwvfql\n",
      "R{vfml\n"
     ]
    }
   ],
   "source": [
    "#Write a python program which takes one input string from user and encode it in below format:-\n",
    "#     1. #Input:- 'Python'\n",
    "#        #Output:- 'R{vjqp'\n",
    "        \n",
    "my_str='Python'\n",
    "out_str=''\n",
    "for i in range(len(my_str)):\n",
    "        out_str+=chr(ord(my_str[i])+2)\n",
    "print(out_str)        \n",
    "        \n",
    "        \n",
    "        \n",
    "        \n",
    "\n",
    "#     2. #Input:- 'Python'\n",
    "#        #Output:- 'Rwvfql'\n",
    "\n",
    "my_str='Python'\n",
    "out_str=''\n",
    "for i in range(len(my_str)):\n",
    "    if i%2==0:\n",
    "        out_str+=chr(ord(my_str[i])+2)\n",
    "    else:\n",
    "        out_str+=chr(ord(my_str[i])-2)\n",
    "print(out_str)\n",
    "        \n",
    "        \n",
    "        \n",
    "        \n",
    "        \n",
    "#     3. #Input:- 'Python'\n",
    "#        #Output:- 'R{vfml'\n",
    "\n",
    "\n",
    "my_str='Python'\n",
    "out_str=''\n",
    "for i in range(len(my_str)):\n",
    "    if i<(len(my_str)/2):\n",
    "        out_str+=chr(ord(my_str[i])+2)\n",
    "    else:\n",
    "        out_str+=chr(ord(my_str[i])-2)\n",
    "print(out_str)\n",
    "        \n",
    "        \n",
    "        \n",
    "        "
   ]
  }
 ],
 "metadata": {
  "colab": {
   "name": "Copy of Conditional_and_loop_assignment.ipynb",
   "provenance": [
    {
     "file_id": "18jvHbu1SvTgDGxU-uNloDb4lsxEE4EmO",
     "timestamp": 1593716229346
    }
   ]
  },
  "kernelspec": {
   "display_name": "Python 3",
   "language": "python",
   "name": "python3"
  },
  "language_info": {
   "codemirror_mode": {
    "name": "ipython",
    "version": 3
   },
   "file_extension": ".py",
   "mimetype": "text/x-python",
   "name": "python",
   "nbconvert_exporter": "python",
   "pygments_lexer": "ipython3",
   "version": "3.7.6"
  }
 },
 "nbformat": 4,
 "nbformat_minor": 1
}
